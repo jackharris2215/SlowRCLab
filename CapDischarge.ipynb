{
 "cells": [
  {
   "cell_type": "code",
   "execution_count": null,
   "metadata": {},
   "outputs": [],
   "source": [
    "import numpy as np\n",
    "import matplotlib.pyplot as plt\n",
    "V = np.array ([11.49,7.23,4.614,2.925,1.862,1.206,0.766,0.503,0.329,0.22,0.148,0.099,0.069])\n",
    "t = np.array ([0,10,20,30,40,50,60,70,80,90,100,110,120])\n",
    "plt.xlabel('Time')\n",
    "plt.ylabel('Voltage')\n",
    "plt.title('Capacitor Discharging')\n",
    "plt.plot(t ,V)\n",
    "plt.show()"
   ]
  }
 ],
 "metadata": {
  "language_info": {
   "name": "python"
  },
  "orig_nbformat": 4
 },
 "nbformat": 4,
 "nbformat_minor": 2
}
