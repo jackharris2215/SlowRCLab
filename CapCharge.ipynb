{
 "cells": [
  {
   "cell_type": "code",
   "execution_count": null,
   "metadata": {},
   "outputs": [],
   "source": [
    "import numpy as np\n",
    "import matplotlib.pyplot as plt\n",
    "V = np.array ([0,4.216,6.84,8.45,9.48,10.13,10.55,10.83,11.01,11.14,11.22,11.28,11.33])\n",
    "t = np.array ([0,10,20,30,40,50,60,70,80,90,100,110,120])\n",
    "plt.xlabel('Time')\n",
    "plt.ylabel('Voltage')\n",
    "plt.title('Capacitor Charging')\n",
    "plt.plot(t ,V)\n",
    "plt.show()"
   ]
  }
 ],
 "metadata": {
  "language_info": {
   "name": "python"
  },
  "orig_nbformat": 4
 },
 "nbformat": 4,
 "nbformat_minor": 2
}
